{
 "cells": [
  {
   "cell_type": "code",
   "execution_count": 67,
   "id": "bddce885",
   "metadata": {},
   "outputs": [],
   "source": [
    "#Function that receives a List and a Dictionary and returns a new List_Filtered.\n",
    "\n",
    "# List_Filtered contains only the words which appear in the previous list a number of times equal to or greater than\n",
    "# the dictionary's first value and equal to or less than the dictionary's second value.\n",
    "\n",
    "def select(L,D):\n",
    "    \n",
    "    List_Filtered=[]\n",
    "    C={}                                    #C = counter for how many times an element is in list L\n",
    "    \n",
    "    for word in L:                          #word = each element in list L\n",
    "        if word not in C:\n",
    "            C[word]=1\n",
    "        else:\n",
    "            C[word]=C[word]+1\n",
    "        \n",
    "    for word in C:\n",
    "        if word in L and word in D:\n",
    "            if C[word] >= (D[str(word)][0]) and C[word] <= (D[str(word)][1]):\n",
    "                List_Filtered.append(word)\n",
    "    \n",
    "    \n",
    "    return List_Filtered\n",
    "    \n",
    "    "
   ]
  },
  {
   "cell_type": "code",
   "execution_count": 68,
   "id": "db9cef4f",
   "metadata": {
    "scrolled": false
   },
   "outputs": [
    {
     "name": "stdout",
     "output_type": "stream",
     "text": [
      "['table', 'room']\n"
     ]
    }
   ],
   "source": [
    "L=['table','apple','orange','room','room','person','room','person','orange','table']\n",
    "D={'table':[2,5],'chair':[0,2],'room':[2,4],'food':[3,20]}\n",
    "\n",
    "print(select(L,D))"
   ]
  },
  {
   "cell_type": "code",
   "execution_count": null,
   "id": "c07888e6",
   "metadata": {},
   "outputs": [],
   "source": []
  }
 ],
 "metadata": {
  "kernelspec": {
   "display_name": "Python 3 (ipykernel)",
   "language": "python",
   "name": "python3"
  },
  "language_info": {
   "codemirror_mode": {
    "name": "ipython",
    "version": 3
   },
   "file_extension": ".py",
   "mimetype": "text/x-python",
   "name": "python",
   "nbconvert_exporter": "python",
   "pygments_lexer": "ipython3",
   "version": "3.10.9"
  }
 },
 "nbformat": 4,
 "nbformat_minor": 5
}
